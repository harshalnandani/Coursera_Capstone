{
 "cells": [
  {
   "cell_type": "markdown",
   "metadata": {},
   "source": [
    "### Information about the data\n",
    "\n",
    "Based on the questions we are trying to answer, we need to collect data on a few different topics. First, we need to know more about the restuarants. We need to scrape data of websites like Zomato or Yelp, who have an open dataset containing details about the restarants.\n",
    "\n",
    "Next, we need to be able to identify the number and type of restraunts in a given neighborhood. We will use the API of FourSquare to help us find and identify this information. This API will allow us to search for businesses and venues around a given geogrpahic point (like the neighborhood information from Wikipedia) and find out how many and what types of businesses are in that area. We will clean that up and group it to make an easier to follow listing of business types, then remove anything that isn't a restaurant for final analysis.\n",
    "\n",
    "Finally, we will combine this information and perform analysis and visualization techniques using pandas, numpy, folium and other packages to decide how densely packed a neighborhood is with restaurants as well as to idenify the types of restaurants that are located in each neighborhood. We will use k-means clustering to examine the commonality of types of restaurants and provide raw counts of businesses for consideration.\n",
    "\n",
    "We will use feature extraction, and will classify restaurants in a fix number of parameters. Then, we can rate the restaurants on each parameter out of a fix number like 5 or 10. We can then create a search tool, in which user can enter a cuisine,budget,ambience,food quality etc. and they will get a result combined with some basic measures like distance, availability, etc."
   ]
  },
  {
   "cell_type": "code",
   "execution_count": null,
   "metadata": {},
   "outputs": [],
   "source": []
  }
 ],
 "metadata": {
  "kernelspec": {
   "display_name": "Python 3",
   "language": "python",
   "name": "python3"
  }
 },
 "nbformat": 4,
 "nbformat_minor": 2
}
