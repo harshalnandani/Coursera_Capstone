{
 "cells": [
  {
   "cell_type": "markdown",
   "metadata": {},
   "source": [
    "## The Restaurant Reccomendation Problem\n",
    "\n",
    "\n",
    "### <font color ='red'> Problem background :</font>\n",
    "\n",
    "#### Ahmedabad is the economic capital of the Indian state of Gujarat. It is also a **World Heritage Site**\n",
    "\n",
    "#### The diversity of the cuisine available is reflective of the social and economic diversity of Ahmedabad. Roadside vendors, tea stalls, South Indian, North Indian, Chinese and Western fast food are all very popular in the city. \n",
    "\n",
    "### <font color ='red'> Problem description :</font>\n",
    "\n",
    "#### Food being a big part of the city's culture, it is really important to have a functional and accurate reccomendation system for the people who love eating out. Following are the key questions that can be asked:\n",
    "\n",
    "### <font color= 'red' > KEY QUESTIONS :</font>\n",
    "\n",
    "#### How many types of foods are available in the restaurant ?\n",
    "#### which one is the nearest to me with a good rating ?\n",
    "#### How many \"similar\" restaurants are available near by me ?\n",
    "#### Do the \"similar\" restaurants cost more ? If yes, what speciality do they have that make them better ?\n",
    "\n",
    "\n",
    "#### Expectations from this recommender system is to get answer for the questions, and in such a way that it uncovers all the perspective of managing recommendations. It is sighted to show :\n",
    "\n",
    "#### What types of restaurants are present in a particular area ?\n",
    "#### How do different restaurants rank with respect to my preferences ?\n",
    "\n",
    "### <font color = 'red' >Target audience :</font>\n",
    "#### Target audiences for this project is not limited to a person who keeps travelling but to everyone. People could simply decide to look for a similar restaurant all the time because they are addicted to a specific category of food. People who rarely use restaurants would prefer to have the most rated restaurants nearby them and all this could be easily handed by our recommender system. So target for this project is basically everyone who is exploring different places or similar places."
   ]
  },
  {
   "cell_type": "code",
   "execution_count": null,
   "metadata": {},
   "outputs": [],
   "source": []
  }
 ],
 "metadata": {
  "kernelspec": {
   "display_name": "Python 3",
   "language": "python",
   "name": "python3"
  },
  "language_info": {
   "codemirror_mode": {
    "name": "ipython",
    "version": 3
   },
   "file_extension": ".py",
   "mimetype": "text/x-python",
   "name": "python",
   "nbconvert_exporter": "python",
   "pygments_lexer": "ipython3",
   "version": "3.7.3"
  }
 },
 "nbformat": 4,
 "nbformat_minor": 2
}
